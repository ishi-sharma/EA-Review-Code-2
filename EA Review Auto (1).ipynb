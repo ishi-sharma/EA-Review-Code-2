{
 "cells": [
  {
   "cell_type": "code",
   "execution_count": 9,
   "metadata": {},
   "outputs": [],
   "source": [
    "import requests\n",
    "\n",
    "from requests_ntlm import HttpNtlmAuth\n",
    "\n",
    "#requests.get(\"https://studentgsu.sharepoint.com/sites/EAReview\", auth=HttpNtlmAuth('DOMAIN\\\\USERNAME','PASSWORD'))\n",
    "\n"
   ]
  },
  {
   "cell_type": "code",
   "execution_count": 10,
   "metadata": {},
   "outputs": [],
   "source": [
    "from openpyxl import load_workbook"
   ]
  },
  {
   "cell_type": "code",
   "execution_count": 11,
   "metadata": {},
   "outputs": [
    {
     "data": {
      "text/plain": [
       "0"
      ]
     },
     "execution_count": 11,
     "metadata": {},
     "output_type": "execute_result"
    }
   ],
   "source": [
    "import xlsxwriter\n",
    "\n",
    "# Create an new Excel file and add a worksheet.\n",
    "workbook = xlsxwriter.Workbook('EARdatasheet.xlsx')\n",
    "worksheet = workbook.add_worksheet()\n",
    "\n",
    "# Widen the first column to make the text clearer.\n",
    "#worksheet.set_column('A:A', 20)\n",
    "\n",
    "# Add a bold format to use to highlight cells.\n",
    "bold = workbook.add_format({'bold': True})\n",
    "\n",
    "# Write some simple text.\n",
    "worksheet.write('A1', 'Overview', bold)\n",
    "\n",
    "worksheet.write('A2', 'Initative Name')\n",
    "worksheet.write('B2', 'Description')\n",
    "worksheet.write('C2', 'Start Date')\n",
    "worksheet.write('D2', 'End Date')\n",
    "worksheet.write('E2', 'Project Sponsor')\n",
    "worksheet.write('F2', 'BU Product Owner')\n",
    "worksheet.write('G2', 'Capability Leader')\n",
    "worksheet.write('H2', 'Solution Leader')\n",
    "worksheet.write('I2', 'Application Owner*')\n",
    "worksheet.write('J2', 'Requesting Org')\n",
    "worksheet.write('K2', 'Investment Category')\n",
    "worksheet.write('L2', 'Total Investment')\n",
    "worksheet.write('M2', 'T-Shirt Size')\n",
    "worksheet.write('N2', 'MT Project Manager | Scrum Master')\n",
    "\n",
    "\n",
    "\n",
    "worksheet1 = workbook.add_worksheet()\n",
    "worksheet1.write('A1', 'Buisness Capabilities', bold)\n",
    "\n",
    "\n",
    "worksheet1.write('A2', '1) Which processes in the BCM does the project support? Level 1')\n",
    "worksheet1.write('B2', '1) Which processes in the BCM does the project support? Level 2')\n",
    "worksheet1.write('C2', '1) Which processes in the BCM does the project support? Level 3')\n",
    "worksheet1.write('D2', '1) Which processes in the BCM does the project support? Level 4')\n",
    "worksheet1.write('E2', '2) Which processes in the BCM does the project support? Level 1')\n",
    "worksheet1.write('F2', '2) Which processes in the BCM does the project support? Level 2')\n",
    "worksheet1.write('G2', '2) Which processes in the BCM does the project support? Level 3')\n",
    "worksheet1.write('H2', '2) Which processes in the BCM does the project support? Level 4')\n",
    "worksheet1.write('I2', '3) Which processes in the BCM does the project support? Level 1')\n",
    "worksheet1.write('J2', '3) Which processes in the BCM does the project support? Level 2')\n",
    "worksheet1.write('K2', '3) Which processes in the BCM does the project support? Level 3')\n",
    "worksheet1.write('L2', '3) Which processes in the BCM does the project support? Level 4')\n",
    "\n",
    "\n",
    "worksheet1.write('M2', 'Does the solution or initiative support more than 3 capabilities?')\n",
    "\n",
    "worksheet1.write('N2', 'If yes, provide a list of the others')\n",
    "\n",
    "worksheet1.write('O2', 'Does this enable new business capabilities for McKesson?')\n",
    "\n",
    "worksheet1.write('P2', 'If yes, provide a description')\n",
    "\n",
    "\n",
    "worksheet1.write('Q2', 'Does this align with the capability leader’s technology road map?')\n",
    "\n",
    "worksheet1.write('R2', 'If no, please explain')\n",
    "\n",
    "\n",
    "worksheet2 = workbook.add_worksheet()\n",
    "worksheet2.write('A1', 'Applications', bold)\n",
    "\n",
    "worksheet2.write('A2', 'Have any existing solutions in our landscape been explored?')\n",
    "worksheet2.write('B2', 'Will this solution be external-facing?')\n",
    "worksheet2.write('C2', 'What is the LeanIX ID for the application?')\n",
    "worksheet2.write('D2', 'Has a conceptual architecture diagram been created?')\n",
    "\n",
    "\n",
    "worksheet3 = workbook.add_worksheet()\n",
    "worksheet3.write('A1', 'Integration', bold)\n",
    "\n",
    "worksheet3.write('A2', 'What systems will this solution integrate with?')\n",
    "worksheet3.write('B2', 'Has a data flow diagram been created?')\n",
    "worksheet3.write('C2', 'What patterns and platforms will be used for those integrations?')\n",
    "worksheet3.write('D2', 'What is the volume, frequency and service level requirements for those integrations?')\n",
    "\n",
    "\n",
    "worksheet4 = workbook.add_worksheet()\n",
    "worksheet4.write('A1', 'Security', bold)\n",
    "\n",
    "worksheet4.write('A2', 'Are there single sign-on requirements?')\n",
    "worksheet4.write('B2', 'If not, why not?')\n",
    "\n",
    "worksheet4.write('C2', 'Who from ISRM has been engaged?')\n",
    "worksheet4.write('D2', 'If new, have the appropriate reviews been completed?')\n",
    "worksheet4.write('E2', 'Has a risk assessment been completed? ')\n",
    "\n",
    "\n",
    "worksheet5 = workbook.add_worksheet()\n",
    "worksheet5.write('A1', 'Procurement', bold)\n",
    "\n",
    "worksheet5.write('A2', 'What are the licensing requirements?')\n",
    "worksheet5.write('B2', 'Who from Procurement has been engaged?')\n",
    "\n",
    "\n",
    "worksheet6 = workbook.add_worksheet()\n",
    "worksheet6.write('A1', 'Data', bold)\n",
    "\n",
    "worksheet6.write('A2', 'What master data elements will be used, modified or created?')\n",
    "worksheet6.write('B2', 'What are the analytics requirements?')\n",
    "worksheet6.write('C2', 'What is the approach (policy, process and technology) for information life cycle management?')\n",
    "\n",
    "worksheet7 = workbook.add_worksheet()\n",
    "worksheet7.write('A1', 'Infrastructure', bold)\n",
    "\n",
    "worksheet7.write('A2', 'Does the application’s technology stack align with our strategy and standards?')\n",
    "worksheet7.write('B2', 'Where will the application be hosted?')\n",
    "worksheet7.write('C2', 'What is the expected volume of network traffic?')\n",
    "worksheet7.write('D2', 'What is the user count and type?')\n",
    "worksheet7.write('E2', 'What is the expected growth?')\n",
    "worksheet7.write('F2', 'What is the cost of downtime?  ')\n",
    "worksheet7.write('G2', 'Who has been engaged to discuss the appropriate HA and DR capabilities?')\n",
    "\n",
    "worksheet8 = workbook.add_worksheet()\n",
    "worksheet8.write('A1', 'Operations', bold)\n",
    "\n",
    "worksheet8.write('A2', 'What groups will be expected to support this solution?')\n",
    "worksheet8.write('B2', 'Who from those groups has been engaged?')\n",
    "worksheet8.write('C2', 'Are there IT components that are at risk of EOL')\n",
    "worksheet8.write('D2', 'If yes, what are they?')\n",
    "worksheet8.write('E2', 'Does the solution affect multiple regions/BUs?')\n",
    "\n",
    "\n",
    "worksheet9 = workbook.add_worksheet()\n",
    "worksheet9.write('A1', 'Compliance', bold)\n",
    "\n",
    "worksheet9.write('A2', 'What are the compliance requirements?')\n",
    "worksheet9.write('B2', 'Are there data residency requirements?')\n",
    "worksheet9.write('C2', 'What regulations apply (e.g., SOx, HIPAA, GDPR)?')\n",
    "worksheet9.write('D2', 'Is it regulated by an outside entity?')\n",
    "worksheet9.write('E2', 'Is it legally mandated or contractually required?')\n",
    "\n",
    "\n",
    "\n"
   ]
  },
  {
   "cell_type": "code",
   "execution_count": 12,
   "metadata": {},
   "outputs": [],
   "source": [
    "#pip install Office365-REST-Python-Client\n"
   ]
  },
  {
   "cell_type": "code",
   "execution_count": 13,
   "metadata": {},
   "outputs": [],
   "source": [
    "#from office365.runtime.auth.authentication_context import AuthenticationContext\n",
    "#from office365.sharepoint.client_context import ClientContext"
   ]
  },
  {
   "cell_type": "code",
   "execution_count": 14,
   "metadata": {},
   "outputs": [],
   "source": [
    "#ctx_auth = AuthenticationContext(https://gtvault-my.sharepoint.com/personal/isharma34_gatech_edu/_layouts/15/onedrive.aspx)\n",
    "#ctx_auth.acquire_token_for_user(isharma34@gatech.edu, PASSWORD)   \n",
    "#ctx = ClientContext(url, ctx_auth)\n",
    "#response = File.open_binary(ctx, \"/Shared Documents/User Guide.docx\")\n",
    "#with open(\"./User Guide.docx\", \"wb\") as local_file:\n",
    "#    local_file.write(response.content)"
   ]
  },
  {
   "cell_type": "code",
   "execution_count": 15,
   "metadata": {},
   "outputs": [],
   "source": [
    "import os                                                                                                             \n",
    "\n",
    "def automated_overview(dir):                                                                                                  \n",
    "    r = []                                                                                                            \n",
    "    subdirs = [x[0] for x in os.walk(dir)]                                                                            \n",
    "    for subdir in subdirs:                                                                                            \n",
    "        files = os.walk(subdir).__next__()[2]                                                                             \n",
    "        if (len(files) > 0):\n",
    "            r = 3\n",
    "            for file in files:\n",
    "                i = str(r)\n",
    "                fname = subdir + \"/\" + file\n",
    "                wbk = load_workbook(filename = fname)\n",
    "                \n",
    "                BC = wbk[\"Business Case\"]\n",
    "                worksheet.write('A' + i, BC[\"D5\"].value)\n",
    "                worksheet.write('B' + i, BC[\"D8\"].value)\n",
    "                worksheet.write('C' + i, BC[\"K8\"].value.strftime(\"%-m/%-d/%Y\")) #date\n",
    "                worksheet.write('D' + i, BC[\"M8\"].value.strftime(\"%-m/%-d/%Y\")) #date\n",
    "                worksheet.write('E' + i, BC[\"D7\"].value)\n",
    "                worksheet.write('F' + i, BC[\"Q6\"].value)\n",
    "                worksheet.write('G' + i, BC[\"Q7\"].value)\n",
    "                worksheet.write('K' + i, BC[\"L7\"].value)\n",
    "                worksheet.write('M' + i, BC[\"H6\"].value)\n",
    "                worksheet.write('N' + i, BC[\"H7\"].value)\n",
    "                worksheet.write('H' + i, BC[\"Q8\"].value)\n",
    "                worksheet.write('J' + i, BC[\"U7\"].value)\n",
    "                worksheet.write('L' + i, BC[\"R65\"].value)  \n",
    "                \n",
    "                EA = wbk[\"EA Review\"]\n",
    "                worksheet.write('I' + i, EA[\"T9\"].value)\n",
    "                \n",
    "                r += 1"
   ]
  },
  {
   "cell_type": "code",
   "execution_count": 16,
   "metadata": {},
   "outputs": [
    {
     "ename": "PermissionError",
     "evalue": "[Errno 13] Permission denied: 'SyncEAR/WMS of the Future.xlsx'",
     "output_type": "error",
     "traceback": [
      "\u001b[0;31m---------------------------------------------------------------------------\u001b[0m",
      "\u001b[0;31mPermissionError\u001b[0m                           Traceback (most recent call last)",
      "\u001b[0;32m<ipython-input-16-3c757c490233>\u001b[0m in \u001b[0;36m<module>\u001b[0;34m\u001b[0m\n\u001b[0;32m----> 1\u001b[0;31m \u001b[0mautomated_overview\u001b[0m\u001b[0;34m(\u001b[0m\u001b[0;34m\"SyncEAR\"\u001b[0m\u001b[0;34m)\u001b[0m\u001b[0;34m\u001b[0m\u001b[0;34m\u001b[0m\u001b[0m\n\u001b[0m\u001b[1;32m      2\u001b[0m \u001b[0;34m\u001b[0m\u001b[0m\n\u001b[1;32m      3\u001b[0m \u001b[0mworkbook\u001b[0m\u001b[0;34m.\u001b[0m\u001b[0mclose\u001b[0m\u001b[0;34m(\u001b[0m\u001b[0;34m)\u001b[0m\u001b[0;34m\u001b[0m\u001b[0;34m\u001b[0m\u001b[0m\n",
      "\u001b[0;32m<ipython-input-15-5d8d7b997d9d>\u001b[0m in \u001b[0;36mautomated_overview\u001b[0;34m(dir)\u001b[0m\n\u001b[1;32m     11\u001b[0m                 \u001b[0mi\u001b[0m \u001b[0;34m=\u001b[0m \u001b[0mstr\u001b[0m\u001b[0;34m(\u001b[0m\u001b[0mr\u001b[0m\u001b[0;34m)\u001b[0m\u001b[0;34m\u001b[0m\u001b[0;34m\u001b[0m\u001b[0m\n\u001b[1;32m     12\u001b[0m                 \u001b[0mfname\u001b[0m \u001b[0;34m=\u001b[0m \u001b[0msubdir\u001b[0m \u001b[0;34m+\u001b[0m \u001b[0;34m\"/\"\u001b[0m \u001b[0;34m+\u001b[0m \u001b[0mfile\u001b[0m\u001b[0;34m\u001b[0m\u001b[0;34m\u001b[0m\u001b[0m\n\u001b[0;32m---> 13\u001b[0;31m                 \u001b[0mwbk\u001b[0m \u001b[0;34m=\u001b[0m \u001b[0mload_workbook\u001b[0m\u001b[0;34m(\u001b[0m\u001b[0mfilename\u001b[0m \u001b[0;34m=\u001b[0m \u001b[0mfname\u001b[0m\u001b[0;34m)\u001b[0m\u001b[0;34m\u001b[0m\u001b[0;34m\u001b[0m\u001b[0m\n\u001b[0m\u001b[1;32m     14\u001b[0m \u001b[0;34m\u001b[0m\u001b[0m\n\u001b[1;32m     15\u001b[0m                 \u001b[0mBC\u001b[0m \u001b[0;34m=\u001b[0m \u001b[0mwbk\u001b[0m\u001b[0;34m[\u001b[0m\u001b[0;34m\"Business Case\"\u001b[0m\u001b[0;34m]\u001b[0m\u001b[0;34m\u001b[0m\u001b[0;34m\u001b[0m\u001b[0m\n",
      "\u001b[0;32m/anaconda3/lib/python3.7/site-packages/openpyxl/reader/excel.py\u001b[0m in \u001b[0;36mload_workbook\u001b[0;34m(filename, read_only, keep_vba, data_only, keep_links)\u001b[0m\n\u001b[1;32m    309\u001b[0m     \"\"\"\n\u001b[1;32m    310\u001b[0m     reader = ExcelReader(filename, read_only, keep_vba,\n\u001b[0;32m--> 311\u001b[0;31m                         data_only, keep_links)\n\u001b[0m\u001b[1;32m    312\u001b[0m     \u001b[0mreader\u001b[0m\u001b[0;34m.\u001b[0m\u001b[0mread\u001b[0m\u001b[0;34m(\u001b[0m\u001b[0;34m)\u001b[0m\u001b[0;34m\u001b[0m\u001b[0;34m\u001b[0m\u001b[0m\n\u001b[1;32m    313\u001b[0m     \u001b[0;32mreturn\u001b[0m \u001b[0mreader\u001b[0m\u001b[0;34m.\u001b[0m\u001b[0mwb\u001b[0m\u001b[0;34m\u001b[0m\u001b[0;34m\u001b[0m\u001b[0m\n",
      "\u001b[0;32m/anaconda3/lib/python3.7/site-packages/openpyxl/reader/excel.py\u001b[0m in \u001b[0;36m__init__\u001b[0;34m(self, fn, read_only, keep_vba, data_only, keep_links)\u001b[0m\n\u001b[1;32m    124\u001b[0m     def __init__(self,  fn, read_only=False, keep_vba=KEEP_VBA,\n\u001b[1;32m    125\u001b[0m                   data_only=False, keep_links=True):\n\u001b[0;32m--> 126\u001b[0;31m         \u001b[0mself\u001b[0m\u001b[0;34m.\u001b[0m\u001b[0marchive\u001b[0m \u001b[0;34m=\u001b[0m \u001b[0m_validate_archive\u001b[0m\u001b[0;34m(\u001b[0m\u001b[0mfn\u001b[0m\u001b[0;34m)\u001b[0m\u001b[0;34m\u001b[0m\u001b[0;34m\u001b[0m\u001b[0m\n\u001b[0m\u001b[1;32m    127\u001b[0m         \u001b[0mself\u001b[0m\u001b[0;34m.\u001b[0m\u001b[0mvalid_files\u001b[0m \u001b[0;34m=\u001b[0m \u001b[0mself\u001b[0m\u001b[0;34m.\u001b[0m\u001b[0marchive\u001b[0m\u001b[0;34m.\u001b[0m\u001b[0mnamelist\u001b[0m\u001b[0;34m(\u001b[0m\u001b[0;34m)\u001b[0m\u001b[0;34m\u001b[0m\u001b[0;34m\u001b[0m\u001b[0m\n\u001b[1;32m    128\u001b[0m         \u001b[0mself\u001b[0m\u001b[0;34m.\u001b[0m\u001b[0mread_only\u001b[0m \u001b[0;34m=\u001b[0m \u001b[0mread_only\u001b[0m\u001b[0;34m\u001b[0m\u001b[0;34m\u001b[0m\u001b[0m\n",
      "\u001b[0;32m/anaconda3/lib/python3.7/site-packages/openpyxl/reader/excel.py\u001b[0m in \u001b[0;36m_validate_archive\u001b[0;34m(filename)\u001b[0m\n\u001b[1;32m     96\u001b[0m             \u001b[0;32mraise\u001b[0m \u001b[0mInvalidFileException\u001b[0m\u001b[0;34m(\u001b[0m\u001b[0mmsg\u001b[0m\u001b[0;34m)\u001b[0m\u001b[0;34m\u001b[0m\u001b[0;34m\u001b[0m\u001b[0m\n\u001b[1;32m     97\u001b[0m \u001b[0;34m\u001b[0m\u001b[0m\n\u001b[0;32m---> 98\u001b[0;31m     \u001b[0marchive\u001b[0m \u001b[0;34m=\u001b[0m \u001b[0mZipFile\u001b[0m\u001b[0;34m(\u001b[0m\u001b[0mfilename\u001b[0m\u001b[0;34m,\u001b[0m \u001b[0;34m'r'\u001b[0m\u001b[0;34m)\u001b[0m\u001b[0;34m\u001b[0m\u001b[0;34m\u001b[0m\u001b[0m\n\u001b[0m\u001b[1;32m     99\u001b[0m     \u001b[0;32mreturn\u001b[0m \u001b[0marchive\u001b[0m\u001b[0;34m\u001b[0m\u001b[0;34m\u001b[0m\u001b[0m\n\u001b[1;32m    100\u001b[0m \u001b[0;34m\u001b[0m\u001b[0m\n",
      "\u001b[0;32m/anaconda3/lib/python3.7/zipfile.py\u001b[0m in \u001b[0;36m__init__\u001b[0;34m(self, file, mode, compression, allowZip64, compresslevel)\u001b[0m\n\u001b[1;32m   1202\u001b[0m             \u001b[0;32mwhile\u001b[0m \u001b[0;32mTrue\u001b[0m\u001b[0;34m:\u001b[0m\u001b[0;34m\u001b[0m\u001b[0;34m\u001b[0m\u001b[0m\n\u001b[1;32m   1203\u001b[0m                 \u001b[0;32mtry\u001b[0m\u001b[0;34m:\u001b[0m\u001b[0;34m\u001b[0m\u001b[0;34m\u001b[0m\u001b[0m\n\u001b[0;32m-> 1204\u001b[0;31m                     \u001b[0mself\u001b[0m\u001b[0;34m.\u001b[0m\u001b[0mfp\u001b[0m \u001b[0;34m=\u001b[0m \u001b[0mio\u001b[0m\u001b[0;34m.\u001b[0m\u001b[0mopen\u001b[0m\u001b[0;34m(\u001b[0m\u001b[0mfile\u001b[0m\u001b[0;34m,\u001b[0m \u001b[0mfilemode\u001b[0m\u001b[0;34m)\u001b[0m\u001b[0;34m\u001b[0m\u001b[0;34m\u001b[0m\u001b[0m\n\u001b[0m\u001b[1;32m   1205\u001b[0m                 \u001b[0;32mexcept\u001b[0m \u001b[0mOSError\u001b[0m\u001b[0;34m:\u001b[0m\u001b[0;34m\u001b[0m\u001b[0;34m\u001b[0m\u001b[0m\n\u001b[1;32m   1206\u001b[0m                     \u001b[0;32mif\u001b[0m \u001b[0mfilemode\u001b[0m \u001b[0;32min\u001b[0m \u001b[0mmodeDict\u001b[0m\u001b[0;34m:\u001b[0m\u001b[0;34m\u001b[0m\u001b[0;34m\u001b[0m\u001b[0m\n",
      "\u001b[0;31mPermissionError\u001b[0m: [Errno 13] Permission denied: 'SyncEAR/WMS of the Future.xlsx'"
     ]
    }
   ],
   "source": [
    "automated_overview(\"SyncEAR\")\n",
    "\n",
    "workbook.close()"
   ]
  },
  {
   "cell_type": "code",
   "execution_count": 488,
   "metadata": {},
   "outputs": [],
   "source": [
    "                                                                                                       \n",
    "\n",
    "def automated_bc(dir):                                                                                                  \n",
    "    r = []                                                                                                            \n",
    "    subdirs = [x[0] for x in os.walk(dir)]                                                                            \n",
    "    for subdir in subdirs:                                                                                            \n",
    "        files = os.walk(subdir).__next__()[2]                                                                             \n",
    "        if (len(files) > 0):\n",
    "            r = 3\n",
    "            for file in files:\n",
    "                i = str(r)\n",
    "                fname = subdir + \"/\" + file\n",
    "                \n",
    "                wbk = load_workbook(filename = fname)\n",
    "                EA = wbk[\"EA Review\"]\n",
    "                worksheet1.write('A' + i, EA[\"J13\"].value)\n",
    "                worksheet1.write('B' + i, EA[\"M13\"].value)\n",
    "                worksheet1.write('C' + i, EA[\"P13\"].value)\n",
    "                worksheet1.write('D' + i, EA[\"S13\"].value)\n",
    "\n",
    "                worksheet1.write('E' + i, EA[\"J14\"].value)\n",
    "                worksheet1.write('F' + i, EA[\"M14\"].value)\n",
    "                worksheet1.write('G' + i, EA[\"P14\"].value)\n",
    "                worksheet1.write('H' + i, EA[\"S14\"].value)\n",
    "\n",
    "                worksheet1.write('I' + i, EA[\"J15\"].value)\n",
    "                worksheet1.write('J' + i, EA[\"M15\"].value)\n",
    "                worksheet1.write('K' + i, EA[\"P15\"].value)\n",
    "                worksheet1.write('L' + i, EA[\"S15\"].value)\n",
    "\n",
    "                worksheet1.write('M' + i, EA[\"I16\"].value)\n",
    "                worksheet1.write('N' + i, EA[\"L16\"].value)\n",
    "                worksheet1.write('O' + i, EA[\"H17\"].value)\n",
    "                worksheet1.write('P' + i, EA[\"L17\"].value)\n",
    "                worksheet1.write('Q' + i, EA[\"H18\"].value)\n",
    "                worksheet1.write('R' + i, EA[\"L18\"].value)\n",
    "                \n",
    "                r += 1"
   ]
  },
  {
   "cell_type": "code",
   "execution_count": 489,
   "metadata": {},
   "outputs": [],
   "source": [
    "automated_bc(\"Archive\")"
   ]
  },
  {
   "cell_type": "code",
   "execution_count": 491,
   "metadata": {},
   "outputs": [],
   "source": [
    "def automated_application(dir):                                                                                                  \n",
    "    r = []                                                                                                            \n",
    "    subdirs = [x[0] for x in os.walk(dir)]                                                                            \n",
    "    for subdir in subdirs:                                                                                            \n",
    "        files = os.walk(subdir).__next__()[2]                                                                             \n",
    "        if (len(files) > 0):\n",
    "            r = 3\n",
    "            for file in files:\n",
    "                i = str(r)\n",
    "                fname = subdir + \"/\" + file\n",
    "                \n",
    "                wbk = load_workbook(filename = fname)\n",
    "                EA = wbk[\"EA Review\"]\n",
    "                worksheet2.write('A' + i, EA[\"G21\"].value)\n",
    "                worksheet2.write('B' + i, EA[\"L21\"].value)\n",
    "                worksheet2.write('C' + i, EA[\"P21\"].value)\n",
    "                worksheet2.write('D' + i, EA[\"T21\"].value)\n",
    "\n",
    "                \n",
    "                r += 1"
   ]
  },
  {
   "cell_type": "code",
   "execution_count": 492,
   "metadata": {},
   "outputs": [],
   "source": [
    "automated_application(\"Archive\")"
   ]
  },
  {
   "cell_type": "code",
   "execution_count": 494,
   "metadata": {},
   "outputs": [],
   "source": [
    "def automated_integration(dir):                                                                                                  \n",
    "    r = []                                                                                                            \n",
    "    subdirs = [x[0] for x in os.walk(dir)]                                                                            \n",
    "    for subdir in subdirs:                                                                                            \n",
    "        files = os.walk(subdir).__next__()[2]                                                                             \n",
    "        if (len(files) > 0):\n",
    "            r = 3\n",
    "            for file in files:\n",
    "                i = str(r)\n",
    "                fname = subdir + \"/\" + file\n",
    "                \n",
    "                wbk = load_workbook(filename = fname)\n",
    "                EA = wbk[\"EA Review\"]\n",
    "                \n",
    "                worksheet3.write('A'+ i, EA[\"H24\"].value)\n",
    "                worksheet3.write('B'+ i, EA[\"H25\"].value)\n",
    "                worksheet3.write('C'+ i, EA[\"O25\"].value)\n",
    "                worksheet3.write('D'+ i, EA[\"H26\"].value)\n",
    "        \n",
    "                \n",
    "                r += 1"
   ]
  },
  {
   "cell_type": "code",
   "execution_count": 495,
   "metadata": {},
   "outputs": [],
   "source": [
    "automated_integration(\"Archive\")"
   ]
  },
  {
   "cell_type": "code",
   "execution_count": 497,
   "metadata": {},
   "outputs": [],
   "source": [
    "def automated_security(dir):                                                                                                  \n",
    "    r = []                                                                                                            \n",
    "    subdirs = [x[0] for x in os.walk(dir)]                                                                            \n",
    "    for subdir in subdirs:                                                                                            \n",
    "        files = os.walk(subdir).__next__()[2]                                                                             \n",
    "        if (len(files) > 0):\n",
    "            r = 3\n",
    "            for file in files:\n",
    "                i = str(r)\n",
    "                fname = subdir + \"/\" + file\n",
    "                \n",
    "                wbk = load_workbook(filename = fname)\n",
    "                EA = wbk[\"EA Review\"]\n",
    "                worksheet4.write('A'+ i, EA[\"G29\"].value)\n",
    "                worksheet4.write('B'+ i, EA[\"L29\"].value)\n",
    "                worksheet4.write('C'+ i, EA[\"G30\"].value)\n",
    "                worksheet4.write('D'+ i, EA[\"N30\"].value)\n",
    "                worksheet4.write('E'+ i, EA[\"T30\"].value)\n",
    "\n",
    "                \n",
    "                r += 1"
   ]
  },
  {
   "cell_type": "code",
   "execution_count": 498,
   "metadata": {},
   "outputs": [],
   "source": [
    "automated_security(\"Archive\")"
   ]
  },
  {
   "cell_type": "code",
   "execution_count": null,
   "metadata": {},
   "outputs": [],
   "source": [
    "def automated_procurement(dir):                                                                                                  \n",
    "    r = []                                                                                                            \n",
    "    subdirs = [x[0] for x in os.walk(dir)]                                                                            \n",
    "    for subdir in subdirs:                                                                                            \n",
    "        files = os.walk(subdir).__next__()[2]                                                                             \n",
    "        if (len(files) > 0):\n",
    "            r = 3\n",
    "            for file in files:\n",
    "                i = str(r)\n",
    "                fname = subdir + \"/\" + file\n",
    "                \n",
    "                wbk = load_workbook(filename = fname)\n",
    "                EA = wbk[\"EA Review\"]\n",
    "                worksheet5.write('A3', EA[\"G33\"].value)\n",
    "                worksheet5.write('B3', EA[\"R33\"].value)\n",
    "\n",
    "                \n",
    "                r += 1"
   ]
  },
  {
   "cell_type": "code",
   "execution_count": null,
   "metadata": {},
   "outputs": [],
   "source": [
    "def automated_data(dir):                                                                                                  \n",
    "    r = []                                                                                                            \n",
    "    subdirs = [x[0] for x in os.walk(dir)]                                                                            \n",
    "    for subdir in subdirs:                                                                                            \n",
    "        files = os.walk(subdir).__next__()[2]                                                                             \n",
    "        if (len(files) > 0):\n",
    "            r = 3\n",
    "            for file in files:\n",
    "                i = str(r)\n",
    "                fname = subdir + \"/\" + file\n",
    "                \n",
    "                wbk = load_workbook(filename = fname)\n",
    "                EA = wbk[\"EA Review\"]\n",
    "                worksheet6.write('A3', EA[\"H36\"].value)\n",
    "                worksheet6.write('B3', EA[\"H37\"].value)\n",
    "                worksheet6.write('C3', EA[\"H38\"].value)\n",
    "\n",
    "                \n",
    "                r += 1"
   ]
  },
  {
   "cell_type": "code",
   "execution_count": null,
   "metadata": {},
   "outputs": [],
   "source": [
    "def automated_infrastructure(dir):                                                                                                  \n",
    "    r = []                                                                                                            \n",
    "    subdirs = [x[0] for x in os.walk(dir)]                                                                            \n",
    "    for subdir in subdirs:                                                                                            \n",
    "        files = os.walk(subdir).__next__()[2]                                                                             \n",
    "        if (len(files) > 0):\n",
    "            r = 3\n",
    "            for file in files:\n",
    "                i = str(r)\n",
    "                fname = subdir + \"/\" + file\n",
    "                \n",
    "                wbk = load_workbook(filename = fname)\n",
    "                EA = wbk[\"EA Review\"]\n",
    "                worksheet7.write('A3', EA[\"H41\"].value)\n",
    "                worksheet7.write('B3', EA[\"L41\"].value)\n",
    "                worksheet7.write('C3', EA[\"H42\"].value)\n",
    "                worksheet7.write('D3', EA[\"M42\"].value)\n",
    "                worksheet7.write('E3', EA[\"Q42\"].value)\n",
    "                worksheet7.write('F3', EA[\"H43\"].value)\n",
    "                worksheet7.write('G3', EA[\"R43\"].value)\n",
    "\n",
    "\n",
    "                \n",
    "                r += 1"
   ]
  },
  {
   "cell_type": "code",
   "execution_count": 502,
   "metadata": {},
   "outputs": [
    {
     "data": {
      "text/plain": [
       "0"
      ]
     },
     "execution_count": 502,
     "metadata": {},
     "output_type": "execute_result"
    }
   ],
   "source": [
    "def automated_operations(dir):                                                                                                  \n",
    "    r = []                                                                                                            \n",
    "    subdirs = [x[0] for x in os.walk(dir)]                                                                            \n",
    "    for subdir in subdirs:                                                                                            \n",
    "        files = os.walk(subdir).__next__()[2]                                                                             \n",
    "        if (len(files) > 0):\n",
    "            r = 3\n",
    "            for file in files:\n",
    "                i = str(r)\n",
    "                fname = subdir + \"/\" + file\n",
    "                \n",
    "                wbk = load_workbook(filename = fname)\n",
    "                EA = wbk[\"EA Review\"]\n",
    "                worksheet8.write('A3', EA[\"G46\"].value)\n",
    "worksheet8.write('B3', EA[\"R46\"].value)\n",
    "worksheet8.write('C3', EA[\"G47\"].value)\n",
    "worksheet8.write('D3', EA[\"K47\"].value)\n",
    "worksheet8.write('E3', EA[\"R47\"].value)\n",
    "\n",
    "                \n",
    "                r += 1"
   ]
  },
  {
   "cell_type": "code",
   "execution_count": 503,
   "metadata": {},
   "outputs": [
    {
     "data": {
      "text/plain": [
       "0"
      ]
     },
     "execution_count": 503,
     "metadata": {},
     "output_type": "execute_result"
    }
   ],
   "source": [
    "#operations\n",
    "wbk = load_workbook(filename = \"WMS of the Future.xlsx\")\n",
    "EA = wbk[\"EA Review\"]\n",
    "worksheet8.write('A3', EA[\"G46\"].value)\n",
    "worksheet8.write('B3', EA[\"R46\"].value)\n",
    "worksheet8.write('C3', EA[\"G47\"].value)\n",
    "worksheet8.write('D3', EA[\"K47\"].value)\n",
    "worksheet8.write('E3', EA[\"R47\"].value)\n",
    "\n",
    "\n"
   ]
  },
  {
   "cell_type": "code",
   "execution_count": 504,
   "metadata": {},
   "outputs": [],
   "source": [
    "#compliance\n",
    "wbk = load_workbook(filename = \"WMS of the Future.xlsx\")\n",
    "EA = wbk[\"EA Review\"]\n",
    "worksheet9.write('A3', EA[\"G50\"].value)\n",
    "worksheet9.write('B3', EA[\"R50\"].value)\n",
    "worksheet9.write('C3', EA[\"G47\"].value)\n",
    "worksheet9.write('D3', EA[\"F51\"].value)\n",
    "worksheet9.write('E3', EA[\"L51\"].value)\n",
    "worksheet9.write('E3', EA[\"R51\"].value)\n",
    "\n",
    "workbook.close()"
   ]
  }
 ],
 "metadata": {
  "kernelspec": {
   "display_name": "Python 3",
   "language": "python",
   "name": "python3"
  },
  "language_info": {
   "codemirror_mode": {
    "name": "ipython",
    "version": 3
   },
   "file_extension": ".py",
   "mimetype": "text/x-python",
   "name": "python",
   "nbconvert_exporter": "python",
   "pygments_lexer": "ipython3",
   "version": "3.7.3"
  }
 },
 "nbformat": 4,
 "nbformat_minor": 2
}
